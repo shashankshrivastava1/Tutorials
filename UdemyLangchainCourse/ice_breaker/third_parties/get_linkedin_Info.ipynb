{
 "cells": [
  {
   "cell_type": "code",
   "execution_count": 1,
   "id": "db73ce9a",
   "metadata": {},
   "outputs": [],
   "source": [
    "import requests\n",
    "api_endpoint = 'https://nubela.co/proxycurl/api/v2/linkedin'\n",
    "linkedin_profile_url = \"https://www.linkedin.com/in/shashank-shrivastava-781b77b8\"\n",
    "\n",
    "api_key = '-2wMlBSLFNaBUizYKbCAPw'\n",
    "header_dic = {'Authorization': 'Bearer ' + api_key}\n",
    "\n",
    "response = requests.get(api_endpoint,\n",
    "                        params={'url': linkedin_profile_url},\n",
    "                        headers=header_dic)"
   ]
  },
  {
   "cell_type": "code",
   "execution_count": 4,
   "id": "79942512",
   "metadata": {},
   "outputs": [
    {
     "data": {
      "text/plain": [
       "dict"
      ]
     },
     "execution_count": 4,
     "metadata": {},
     "output_type": "execute_result"
    }
   ],
   "source": [
    "type(response.json())"
   ]
  },
  {
   "cell_type": "code",
   "execution_count": 12,
   "id": "2e5f69ab",
   "metadata": {},
   "outputs": [
    {
     "name": "stdout",
     "output_type": "stream",
     "text": [
      "shashank-shrivastava-781b77b8\n"
     ]
    }
   ],
   "source": [
    "import json\n",
    "file=linkedin_profile_url.split(\"/\")[-2]\n",
    "print(file)\n",
    "with open(file+\".json\", 'w') as fout:\n",
    "    json_dumps_str = json.dumps(response.json(), indent=4)\n",
    "    print(json_dumps_str, file=fout)"
   ]
  },
  {
   "cell_type": "code",
   "execution_count": 14,
   "id": "68951809",
   "metadata": {},
   "outputs": [
    {
     "name": "stdout",
     "output_type": "stream",
     "text": [
      "42\n"
     ]
    }
   ],
   "source": [
    "file=\"shashank-shrivastava-781b77b8\"\n",
    "with open(file+\".json\", 'r') as fout:\n",
    "    dict = json.load(fout)\n",
    "print(len(dict))"
   ]
  },
  {
   "cell_type": "code",
   "execution_count": 28,
   "id": "d266316d",
   "metadata": {},
   "outputs": [],
   "source": [
    "shashank_linkedin_gist = \"https://gist.githubusercontent.com/shashan3/551096bd871bbf9a46c4a2dffe39b277/raw/9581e6fc1fc30ff402f8bfc9fb7b8c96591cbbd0/shashank_info_git.json\"\n",
    "\n",
    "response = requests.get(shashank_linkedin_gist)"
   ]
  },
  {
   "cell_type": "code",
   "execution_count": 30,
   "id": "7a011b61",
   "metadata": {},
   "outputs": [
    {
     "data": {
      "text/plain": [
       "'Shashank Shrivastava'"
      ]
     },
     "execution_count": 30,
     "metadata": {},
     "output_type": "execute_result"
    }
   ],
   "source": [
    "response.json()[\"full_name\"]"
   ]
  },
  {
   "cell_type": "code",
   "execution_count": null,
   "id": "8a52dbf4",
   "metadata": {},
   "outputs": [],
   "source": []
  }
 ],
 "metadata": {
  "kernelspec": {
   "display_name": "Python 3 (ipykernel)",
   "language": "python",
   "name": "python3"
  },
  "language_info": {
   "codemirror_mode": {
    "name": "ipython",
    "version": 3
   },
   "file_extension": ".py",
   "mimetype": "text/x-python",
   "name": "python",
   "nbconvert_exporter": "python",
   "pygments_lexer": "ipython3",
   "version": "3.9.13"
  }
 },
 "nbformat": 4,
 "nbformat_minor": 5
}
